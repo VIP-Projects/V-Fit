{
 "cells": [
  {
   "cell_type": "code",
   "execution_count": 1,
   "id": "da74c890",
   "metadata": {},
   "outputs": [
    {
     "name": "stdout",
     "output_type": "stream",
     "text": [
      "Requirement already satisfied: flask in c:\\users\\hyunbin\\anaconda3\\envs\\opensw\\lib\\site-packages (2.3.2)\n",
      "Requirement already satisfied: Werkzeug>=2.3.3 in c:\\users\\hyunbin\\anaconda3\\envs\\opensw\\lib\\site-packages (from flask) (2.3.6)\n",
      "Requirement already satisfied: Jinja2>=3.1.2 in c:\\users\\hyunbin\\anaconda3\\envs\\opensw\\lib\\site-packages (from flask) (3.1.2)\n",
      "Requirement already satisfied: itsdangerous>=2.1.2 in c:\\users\\hyunbin\\anaconda3\\envs\\opensw\\lib\\site-packages (from flask) (2.1.2)\n",
      "Requirement already satisfied: click>=8.1.3 in c:\\users\\hyunbin\\anaconda3\\envs\\opensw\\lib\\site-packages (from flask) (8.1.6)\n",
      "Requirement already satisfied: blinker>=1.6.2 in c:\\users\\hyunbin\\anaconda3\\envs\\opensw\\lib\\site-packages (from flask) (1.6.2)\n",
      "Requirement already satisfied: importlib-metadata>=3.6.0 in c:\\users\\hyunbin\\anaconda3\\envs\\opensw\\lib\\site-packages (from flask) (6.8.0)\n",
      "Requirement already satisfied: colorama in c:\\users\\hyunbin\\anaconda3\\envs\\opensw\\lib\\site-packages (from click>=8.1.3->flask) (0.4.6)\n",
      "Requirement already satisfied: zipp>=0.5 in c:\\users\\hyunbin\\anaconda3\\envs\\opensw\\lib\\site-packages (from importlib-metadata>=3.6.0->flask) (3.16.2)\n",
      "Requirement already satisfied: MarkupSafe>=2.0 in c:\\users\\hyunbin\\anaconda3\\envs\\opensw\\lib\\site-packages (from Jinja2>=3.1.2->flask) (2.1.3)\n"
     ]
    }
   ],
   "source": [
    "# !pip install flask\n",
    "# !pip install replicate"
   ]
  },
  {
   "cell_type": "code",
   "execution_count": 3,
   "id": "1486a0d7-4db7-4e6b-b75b-231cc96c7e38",
   "metadata": {},
   "outputs": [],
   "source": [
    "from flask import Flask, request, jsonify, send_file\n",
    "from PIL import Image\n",
    "import replicate\n",
    "import urllib.request\n",
    "import os\n",
    "from werkzeug.utils import secure_filename\n",
    "import base64\n",
    "import io"
   ]
  },
  {
   "cell_type": "code",
   "execution_count": 4,
   "id": "aa2e52d5-524b-4647-83a8-a75a3b87212c",
   "metadata": {},
   "outputs": [],
   "source": [
    "os.environ[\"REPLICATE_API_TOKEN\"]=\"r8_TvNUCJypBl4YjWOZp8Fi2u27Ekc4l0m4G0BMt\""
   ]
  },
  {
   "cell_type": "code",
   "execution_count": null,
   "id": "76566807",
   "metadata": {},
   "outputs": [
    {
     "name": "stdout",
     "output_type": "stream",
     "text": [
      " * Serving Flask app '__main__'\n",
      " * Debug mode: off\n"
     ]
    },
    {
     "name": "stderr",
     "output_type": "stream",
     "text": [
      "WARNING: This is a development server. Do not use it in a production deployment. Use a production WSGI server instead.\n",
      " * Running on http://127.0.0.1:5000\n",
      "Press CTRL+C to quit\n"
     ]
    },
    {
     "name": "stdout",
     "output_type": "stream",
     "text": [
      "hello~\n"
     ]
    },
    {
     "name": "stderr",
     "output_type": "stream",
     "text": [
      "127.0.0.1 - - [28/Aug/2023 14:17:27] \"POST /hello HTTP/1.1\" 200 -\n"
     ]
    },
    {
     "name": "stdout",
     "output_type": "stream",
     "text": [
      "hello~\n"
     ]
    },
    {
     "name": "stderr",
     "output_type": "stream",
     "text": [
      "127.0.0.1 - - [28/Aug/2023 14:18:59] \"POST /hello HTTP/1.1\" 200 -\n"
     ]
    }
   ],
   "source": [
    "app = Flask(__name__)\n",
    "\n",
    "# 서버 접속 시 기본 실행 function\n",
    "@app.route('/')\n",
    "def hello_world():\n",
    "    return 'Hello, World!'\n",
    "\n",
    "# 서버 function test\n",
    "@app.route('/hello', methods=['GET','POST'])\n",
    "def hello_test():\n",
    "    print(\"hello~\")\n",
    "    data = request.get_json()\n",
    "    # print(data['image'])\n",
    "    imgdata1 = base64.b64decode(data['image1'])\n",
    "    img1 = Image.open(io.BytesIO(imgdata1))\n",
    "    imgdata2 = base64.b64decode(data['image2'])\n",
    "    img2 = Image.open(io.BytesIO(imgdata2))\n",
    "    filename = \"C:/Users/HYUNBIN/Desktop/공부/공개sw 공모전/source/images/top/man/img11.jpg\"\n",
    "    with open(filename, 'rb') as f:\n",
    "        load_file = f.read()\n",
    "    result = base64.b64encode(load_file).decode('utf8')\n",
    "    return jsonify({'data':result})\n",
    "\n",
    "# 상의 합성 모델 실행 function\n",
    "@app.route(\"/use_top_fit_model\", methods=['POST'])\n",
    "def use_top_fit_model():\n",
    "    user_image = Image.open(request.files['file'])\n",
    "    return 'use_top_fit_model'\n",
    "\n",
    "# 헤어 합성 모델 실행 function\n",
    "@app.route(\"/use_hair_fit_model\", methods=['POST'])\n",
    "def use_hair_fit_model():\n",
    "    user_image = Image.open(request.files['file'])\n",
    "    output = replicate.run(\n",
    "    \"orpatashnik/styleclip:7af9a66f36f97fee2fece7dcc927551a951f0022cbdd23747b9212f23fc17021\",\n",
    "\n",
    "    input={\"input\": user_image,                         # input image\n",
    "            \"neutral\" : \"a face with hair\",        # origin    \n",
    "            \"target\" : \"a face with red hair\",     # target \n",
    "            \"manipulation_strength\" : 7.5,         # 높을수록 target description에 가까워짐    \n",
    "            \"disentanglement_threshold\" : 0.15     # Lower values mean that broader changes are made to the input image\n",
    "           }\n",
    "    )\n",
    "\n",
    "    # 이미지 요청 및 다운로드\n",
    "    urllib.request.urlretrieve(output, \"output.jpg\")\n",
    "    \n",
    "    return 'use_hair_fit_model'\n",
    "\n",
    "\n",
    "if __name__ == \"__main__\":\n",
    "    app.run()"
   ]
  },
  {
   "cell_type": "code",
   "execution_count": null,
   "id": "ffa0e2ae-0ce4-4cdb-8910-3185e3d859c4",
   "metadata": {},
   "outputs": [],
   "source": []
  }
 ],
 "metadata": {
  "kernelspec": {
   "display_name": "opensw",
   "language": "python",
   "name": "opensw"
  },
  "language_info": {
   "codemirror_mode": {
    "name": "ipython",
    "version": 3
   },
   "file_extension": ".py",
   "mimetype": "text/x-python",
   "name": "python",
   "nbconvert_exporter": "python",
   "pygments_lexer": "ipython3",
   "version": "3.8.17"
  }
 },
 "nbformat": 4,
 "nbformat_minor": 5
}
