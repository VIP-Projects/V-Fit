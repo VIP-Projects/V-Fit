{
 "cells": [
  {
   "cell_type": "code",
   "execution_count": 5,
   "id": "c04c9e82-d35c-420c-b913-6377d2424f09",
   "metadata": {},
   "outputs": [],
   "source": [
    "# 라이브러리 가져오기\n",
    "import pymysql\n",
    "from PIL import Image\n",
    "import base64\n",
    "from io import BytesIO\n",
    "import time\n",
    "import datetime, json\n",
    "import os"
   ]
  },
  {
   "cell_type": "markdown",
   "id": "1467c41a-faac-4668-b8f9-4f2c8533fbcc",
   "metadata": {},
   "source": [
    "# Local PC 내의 데이터셋 DB 업로드"
   ]
  },
  {
   "cell_type": "code",
   "execution_count": 2,
   "id": "04b29fc0-ee15-4288-a925-c0fad47edbd5",
   "metadata": {},
   "outputs": [
    {
     "name": "stdout",
     "output_type": "stream",
     "text": [
      "connected\n"
     ]
    }
   ],
   "source": [
    "# mysql 서버 접속\n",
    "conn = pymysql.connect(host='-----', user='-----', password='-----', charset='utf8')\n",
    "if conn.open:\n",
    "    print('connected')"
   ]
  },
  {
   "cell_type": "code",
   "execution_count": 3,
   "id": "ab65d5f6-df60-43ea-826c-e54767032555",
   "metadata": {},
   "outputs": [
    {
     "data": {
      "text/plain": [
       "0"
      ]
     },
     "execution_count": 3,
     "metadata": {},
     "output_type": "execute_result"
    }
   ],
   "source": [
    "# DB 지정\n",
    "sql = \"USE OPENSW\"\n",
    "curs = conn.cursor()\n",
    "curs.execute(sql)"
   ]
  },
  {
   "cell_type": "code",
   "execution_count": 4,
   "id": "63d0b44e-4f04-4c6f-8f3d-3a3acc20ae51",
   "metadata": {},
   "outputs": [],
   "source": [
    "# sql = \"CREATE TABLE CLOTH(\\\n",
    "#         id INT AUTO_INCREMENT PRIMARY KEY,\\\n",
    "#         image_data LONGBLOB,\\\n",
    "#         sex VARCHAR(10))\""
   ]
  },
  {
   "cell_type": "code",
   "execution_count": 4,
   "id": "103eee84-c757-40bc-a072-330f76ac3f02",
   "metadata": {},
   "outputs": [],
   "source": [
    "# Local PC 내의 데이터셋 경로 지정\n",
    "# /~/images/ 내에 top/man/, top/woman/ 디렉토리 필요\n",
    "my_Url = 'C:/Users/HYUNBIN/Desktop/공부/공개sw 공모전/source/images'"
   ]
  },
  {
   "cell_type": "code",
   "execution_count": 18,
   "id": "d7bc51df-d4b6-4f9a-810d-e4198f3ba4f3",
   "metadata": {},
   "outputs": [],
   "source": [
    "# 디렉토리 내 경로 포함 파일 이름 리스트 생성\n",
    "man_path = '/top/man/'\n",
    "woman_path = '/top/woman/'\n",
    "\n",
    "man_file_list = os.listdir(my_Url + man_path)\n",
    "woman_file_list = os.listdir(my_Url + woman_path)\n",
    "\n",
    "man_path_list = []\n",
    "woman_path_list = []\n",
    "\n",
    "for man_file in man_file_list:\n",
    "    man_path_list.append(my_Url + man_path + man_file)\n",
    "\n",
    "for woman_file in woman_file_list:\n",
    "    woman_path_list.append(my_Url + woman_path + woman_file)"
   ]
  },
  {
   "cell_type": "code",
   "execution_count": 24,
   "id": "bdfdb534-be36-4c4c-8b7b-292bf9edb95d",
   "metadata": {},
   "outputs": [],
   "source": [
    "# 이미지 데이터 하나씩 가져오고 DB에 sql로 업로드\n",
    "# 남자 옷\n",
    "for file in man_path_list:\n",
    "    with open(file, 'rb') as image_file:\n",
    "        binary_image = image_file.read()\n",
    "    sql = 'INSERT INTO CLOTH_TEST (image_data, sex) VALUES(%s, %s)'\n",
    "    curs.execute(sql, (binary_image, 'MAN'))"
   ]
  },
  {
   "cell_type": "code",
   "execution_count": 29,
   "id": "78010a94-90a4-49e0-85ab-b579bd603f8c",
   "metadata": {},
   "outputs": [],
   "source": [
    "# 여자 옷\n",
    "for file in woman_path_list:\n",
    "    with open(file, 'rb') as image_file:\n",
    "        binary_image = image_file.read()\n",
    "    sql = 'INSERT INTO CLOTH_TEST (image_data, sex) VALUES(%s, %s)'\n",
    "    curs.execute(sql, (binary_image, 'WOMAN'))"
   ]
  }
 ],
 "metadata": {
  "kernelspec": {
   "display_name": "opensw",
   "language": "python",
   "name": "opensw"
  },
  "language_info": {
   "codemirror_mode": {
    "name": "ipython",
    "version": 3
   },
   "file_extension": ".py",
   "mimetype": "text/x-python",
   "name": "python",
   "nbconvert_exporter": "python",
   "pygments_lexer": "ipython3",
   "version": "3.8.17"
  }
 },
 "nbformat": 4,
 "nbformat_minor": 5
}
